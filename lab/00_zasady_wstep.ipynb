{
 "cells": [
  {
   "cell_type": "markdown",
   "metadata": {},
   "source": [
    "# Środowisko pracy\n",
    "\n",
    "Na zajęciach będziemy korzystać z języka Python w wersji 3.10 (lub nowszej) oraz zestawu konkretnych pakietów. Na własną odpowiedzialność można korzystać z innych wersji Pythona. Poprzednie wersje Pythona (w szczególności 2.x) nie są zalecane i mogą nie być kompatybilne z notebookami! Zalecamy korzystanie z Linuxa lub MacOSa, nie testowaliśmy notebooków na Windowsie.\n",
    "\n",
    "## Lokalnie\n",
    "\n",
    "1. Ściągnąć repozytorium przedmiotu: \n",
    "    ```\n",
    "    git clone https://github.com/gmum/ml2024-25\n",
    "    ```  \n",
    "2. Ściągnąć oraz zainstalować minicondę: https://conda.io/en/latest/miniconda.html (niewymagane jeśli zainstalowana jest `Anaconda`)  \n",
    "Na windowsie: uruchomić `Anaconda Prompt`\n",
    "3. Stworzyć środowisko razem z wymaganymi paczkami:  \n",
    "    ```\n",
    "    conda create --name ml python=3.10 numpy=1.22.2 scipy=1.11.1 matplotlib=3.7.2 scikit-learn=1.2.0 jupyter\n",
    "    ```\n",
    "4. Aktywować środowisko:\n",
    "Unix/MacOS: `conda activate ml`  \n",
    "Windows: w `Anaconda Prompt`: `activate ml`\n",
    "5.  Doinstalować PyTorcha: https://pytorch.org/  (2.0.1)\n",
    " * GPU: `conda install pytorch torchvision torchaudio pytorch-cuda=11.7 -c pytorch -c nvidia`\n",
    " * CPU only: `conda install pytorch torchvision torchaudio cpuonly -c pytorch`\n",
    "6. W folderze repo odpalić serwer jupytera: `jupyter lab`\n",
    "7. Sprawdzić w przeglądarce czy wszystko działa\n",
    "8. Zachęcamy do używania edytorów notebooków zintegrowanych z IDE, np. PyCharm lub VSCode.\n",
    "\n",
    "(dla użytkowników Dockera) można skorzystać z `nvcr.io/nvidia/pytorch:23.08-py3`\n",
    "\n",
    "\n",
    "## Zmiana git remote\n",
    "\n",
    "1. Po ściąganiu remote jest podpięty pod wspólne repo. Sprawdzamy to poleceniem `git remote -v`:\n",
    "\n",
    "    ```\n",
    "    origin  https://github.com/gmum/ml2024-25.git (fetch)\n",
    "    origin  https://github.com/gmum/ml2024-25.git (push)\n",
    "    ```\n",
    "\n",
    "2. Tworzymy własne repozytorium na github\n",
    "\n",
    "3. Zmieniamy push repo\n",
    "   ```\n",
    "   git remote set-url --push origin <YOUR REPO LINK>\n",
    "   ```\n",
    "4. Sprawdzamy zmiany poleceniem `git remote -v`\n",
    "    ```\n",
    "    origin  https://github.com/gmum/ml2024-25.git (fetch)\n",
    "    origin  <YOUR REPO LINK> (push)\n",
    "    ```\n"
   ]
  },
  {
   "cell_type": "code",
   "execution_count": 2,
   "metadata": {
    "collapsed": false,
    "is_executing": true,
    "jupyter": {
     "outputs_hidden": false
    }
   },
   "outputs": [],
   "source": [
    "### Test środowiska"
   ]
  },
  {
   "cell_type": "code",
   "execution_count": 1,
   "metadata": {},
   "outputs": [],
   "source": [
    "import matplotlib\n",
    "import matplotlib.pyplot as plt\n",
    "import numpy as np\n",
    "import scipy\n",
    "import sklearn\n",
    "import torch"
   ]
  },
  {
   "cell_type": "code",
   "execution_count": 3,
   "metadata": {
    "collapsed": false,
    "jupyter": {
     "outputs_hidden": false
    }
   },
   "outputs": [],
   "source": [
    "### Test PyTorch GPU"
   ]
  },
  {
   "cell_type": "code",
   "execution_count": 4,
   "metadata": {
    "collapsed": false,
    "jupyter": {
     "outputs_hidden": false
    }
   },
   "outputs": [
    {
     "ename": "AssertionError",
     "evalue": "Torch not compiled with CUDA enabled",
     "output_type": "error",
     "traceback": [
      "\u001b[0;31m---------------------------------------------------------------------------\u001b[0m",
      "\u001b[0;31mAssertionError\u001b[0m                            Traceback (most recent call last)",
      "Cell \u001b[0;32mIn[4], line 2\u001b[0m\n\u001b[1;32m      1\u001b[0m t \u001b[38;5;241m=\u001b[39m torch\u001b[38;5;241m.\u001b[39mtensor([\u001b[38;5;241m1\u001b[39m,\u001b[38;5;241m2\u001b[39m,\u001b[38;5;241m3\u001b[39m])\n\u001b[0;32m----> 2\u001b[0m \u001b[43mt\u001b[49m\u001b[38;5;241;43m.\u001b[39;49m\u001b[43mcuda\u001b[49m\u001b[43m(\u001b[49m\u001b[43m)\u001b[49m\n",
      "File \u001b[0;32m/opt/anaconda3/envs/ml/lib/python3.10/site-packages/torch/cuda/__init__.py:293\u001b[0m, in \u001b[0;36m_lazy_init\u001b[0;34m()\u001b[0m\n\u001b[1;32m    288\u001b[0m     \u001b[38;5;28;01mraise\u001b[39;00m \u001b[38;5;167;01mRuntimeError\u001b[39;00m(\n\u001b[1;32m    289\u001b[0m         \u001b[38;5;124m\"\u001b[39m\u001b[38;5;124mCannot re-initialize CUDA in forked subprocess. To use CUDA with \u001b[39m\u001b[38;5;124m\"\u001b[39m\n\u001b[1;32m    290\u001b[0m         \u001b[38;5;124m\"\u001b[39m\u001b[38;5;124mmultiprocessing, you must use the \u001b[39m\u001b[38;5;124m'\u001b[39m\u001b[38;5;124mspawn\u001b[39m\u001b[38;5;124m'\u001b[39m\u001b[38;5;124m start method\u001b[39m\u001b[38;5;124m\"\u001b[39m\n\u001b[1;32m    291\u001b[0m     )\n\u001b[1;32m    292\u001b[0m \u001b[38;5;28;01mif\u001b[39;00m \u001b[38;5;129;01mnot\u001b[39;00m \u001b[38;5;28mhasattr\u001b[39m(torch\u001b[38;5;241m.\u001b[39m_C, \u001b[38;5;124m\"\u001b[39m\u001b[38;5;124m_cuda_getDeviceCount\u001b[39m\u001b[38;5;124m\"\u001b[39m):\n\u001b[0;32m--> 293\u001b[0m     \u001b[38;5;28;01mraise\u001b[39;00m \u001b[38;5;167;01mAssertionError\u001b[39;00m(\u001b[38;5;124m\"\u001b[39m\u001b[38;5;124mTorch not compiled with CUDA enabled\u001b[39m\u001b[38;5;124m\"\u001b[39m)\n\u001b[1;32m    294\u001b[0m \u001b[38;5;28;01mif\u001b[39;00m _cudart \u001b[38;5;129;01mis\u001b[39;00m \u001b[38;5;28;01mNone\u001b[39;00m:\n\u001b[1;32m    295\u001b[0m     \u001b[38;5;28;01mraise\u001b[39;00m \u001b[38;5;167;01mAssertionError\u001b[39;00m(\n\u001b[1;32m    296\u001b[0m         \u001b[38;5;124m\"\u001b[39m\u001b[38;5;124mlibcudart functions unavailable. It looks like you have a broken build?\u001b[39m\u001b[38;5;124m\"\u001b[39m\n\u001b[1;32m    297\u001b[0m     )\n",
      "\u001b[0;31mAssertionError\u001b[0m: Torch not compiled with CUDA enabled"
     ]
    }
   ],
   "source": [
    "t = torch.tensor([1,2,3])\n",
    "t.cuda() # nie mam gpu"
   ]
  },
  {
   "cell_type": "markdown",
   "metadata": {},
   "source": [
    "## Colaboratory (opcjonalnie)\n",
    "W przyszłości do notebooków mogą być potrzebne większe zasoby obliczeniowe. W tym celu będziemy korzystać z narzędzia [Google Colaboratory](https://colab.research.google.com/), które udostępnia za darmo dostęp do GPU. Opcjonalnie można teraz przetestować jego działanie:\n",
    "\n",
    "1. Wrzucić folder z repo na swojego Google Drive.\n",
    "\n",
    "2. Otworzyć ten plik i z dostępnych aplikacji wybrać `Colaboratory`\n",
    "\n",
    "3. Sprawdzić powyższą komórką czy wszystko działa."
   ]
  },
  {
   "cell_type": "markdown",
   "metadata": {},
   "source": [
    "# Wstęp do pakietów naukowych: NumPy\n",
    "\n",
    "Na początek polecam zaznajomić się z podstawami NumPy, polecany tutorial na kompletny wstęp: https://numpy.org/devdocs/user/absolute_beginners.html\n",
    "Dodatkowo z kolejnej części https://numpy.org/devdocs/user/basics.html warto zaznajomić się z: Data types, Array creation, Indexing, Broadcasting.\n",
    "\n",
    "Rada ogólna: nie bać się \"googlowania\" i czytania dokumentacji.\n",
    "\n",
    "**Kolejne zajęcia będą zakładać znajomość podstaw korzystania z numpy. Dla osób, które nie potrafią samodzielnie wykonać poniższych ćwiczeń, przetworzenie materiału z powyższych poradników jest obowiązkowe.**"
   ]
  },
  {
   "cell_type": "markdown",
   "metadata": {},
   "source": [
    "## Zadanie 1. \n",
    "Używając funkcji [`np.random.normal`](https://docs.scipy.org/doc/numpy-1.15.0/reference/generated/numpy.random.normal.html) wylosować dwie macierze **różnych** rozmiarów, i następnie przenożyć je przez siebie macierzowo tak aby otrzymać macierz rozmiaru `9x6`."
   ]
  },
  {
   "cell_type": "code",
   "execution_count": 10,
   "metadata": {},
   "outputs": [
    {
     "name": "stdout",
     "output_type": "stream",
     "text": [
      "[(9, 3), (3, 6), (9, 6)]\n"
     ]
    }
   ],
   "source": [
    "#a 9 X\n",
    "#b X 6\n",
    "A = np.random.normal(size=(9, 3))\n",
    "B = np.random.normal(size=(3, 6))\n",
    "\n",
    "C: np.ndarray = np.dot(A, B)\n",
    "\n",
    "print([m.shape for m in [A, B, C]])\n",
    "\n",
    "assert A.shape != B.shape\n",
    "assert C.shape == (9, 6)"
   ]
  },
  {
   "cell_type": "markdown",
   "metadata": {},
   "source": [
    "## Zadanie 2.\n",
    "\n",
    "Zaimplementować funkcję $\\sigma$, która przyjmuje macierz numpy $X$ (**uwaga**: nie mylić z `np.matrix`!) i zwraca macierz tego samego rozmiaru z wartościami funkcji:\n",
    "$$\\sigma(x) = \\frac{1}{1 + e^{-x}}$$\n",
    "odpowiednio dla każdego $x$.\n",
    "\n",
    "Hint: [`np.e`](https://docs.scipy.org/doc/numpy/reference/constants.html#numpy.e)"
   ]
  },
  {
   "cell_type": "code",
   "execution_count": 12,
   "metadata": {},
   "outputs": [],
   "source": [
    "def sigmoid(x: np.ndarray) -> np.ndarray:\n",
    "    #exp to e\n",
    "    return 1 / (1 + np.exp(-x))\n",
    "\n",
    "\n",
    "X = np.random.uniform(low=-10, high=10, size=(1000, 2000))\n",
    "\n",
    "assert sigmoid(X).max() <= 1.0\n",
    "assert sigmoid(X).min() >= 0.0"
   ]
  },
  {
   "cell_type": "code",
   "execution_count": 13,
   "metadata": {},
   "outputs": [
    {
     "name": "stdout",
     "output_type": "stream",
     "text": [
      "30.6 ms ± 1.01 ms per loop (mean ± std. dev. of 7 runs, 10 loops each)\n"
     ]
    }
   ],
   "source": [
    "%%timeit n=10\n",
    "sigmoid(X)"
   ]
  },
  {
   "cell_type": "markdown",
   "metadata": {},
   "source": [
    "## Zadanie 3.\n",
    "Ustandaryzować wartości w macierzy $X$ per kolumna, tzn. dla każdej wartości $x$ w kolumnie wykonać:\n",
    "\n",
    "$$ f(x_{ij}) = \\frac{x_{ij} - \\mu_j}{\\sigma_j} $$\n",
    "\n",
    "gdzie $\\mu_j$ to średnia wartość kolumny $j$, a $\\sigma_j$ to odchylenie standardowe kolumny $j$."
   ]
  },
  {
   "cell_type": "code",
   "execution_count": 16,
   "metadata": {},
   "outputs": [],
   "source": [
    "X = np.random.uniform(low=-10, high=10, size=(100, 10))\n",
    "\n",
    "mu = X.mean(axis=0) \n",
    "sigma = X.std(axis=0)\n",
    "\n",
    "X_hat: np.ndarray = (X - mu) / sigma\n",
    "\n",
    "assert np.allclose(X_hat.mean(0), 0.0)\n",
    "assert np.allclose(X_hat.std(0), 1.0)"
   ]
  },
  {
   "cell_type": "markdown",
   "metadata": {},
   "source": [
    "## Zadanie 4. \n",
    "\n",
    "Dla funkcji $\\sigma$ z Zadania 2, narysować jej wykres dla argumentów z zakresu $(-10, 10)$. Użyjemy do tego funkcji `plot` z biblioteki [matplotlib](https://matplotlib.org/).\n",
    "\n",
    "Narysowany wykres powinien przypominać poniższy:\n",
    "\n",
    "![sigmoid](https://raw.githubusercontent.com/gmum/ml2024-25/main/lab/resources/sigmoid.png)"
   ]
  },
  {
   "cell_type": "code",
   "execution_count": 22,
   "metadata": {},
   "outputs": [
    {
     "data": {
      "image/png": "[encoded data removed]",
      "text/plain": [
       "<Figure size 640x480 with 1 Axes>"
      ]
     },
     "metadata": {},
     "output_type": "display_data"
    }
   ],
   "source": [
    "X = np.linspace(-10, 10, 20)\n",
    "\n",
    "Y = sigmoid(X)\n",
    "\n",
    "plt.plot(X, Y)\n",
    "\n",
    "plt.title(\"Wykres funkcji Sigmoid\")\n",
    "plt.xlabel(\"x\")\n",
    "plt.ylabel(\"σ(x)\")\n",
    "\n",
    "plt.show()"
   ]
  },
  {
   "cell_type": "code",
   "execution_count": null,
   "metadata": {},
   "outputs": [],
   "source": []
  }
 ],
 "metadata": {
  "kernelspec": {
   "display_name": "Python 3 (ipykernel)",
   "language": "python",
   "name": "python3"
  },
  "language_info": {
   "codemirror_mode": {
    "name": "ipython",
    "version": 3
   },
   "file_extension": ".py",
   "mimetype": "text/x-python",
   "name": "python",
   "nbconvert_exporter": "python",
   "pygments_lexer": "ipython3",
   "version": "3.10.15"
  }
 },
 "nbformat": 4,
 "nbformat_minor": 4
}
